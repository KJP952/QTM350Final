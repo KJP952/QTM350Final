{
 "cells": [
  {
   "cell_type": "markdown",
   "metadata": {},
   "source": [
    "# Analyzing Trends in Education Within Sub-Saharn Africa"
   ]
  },
  {
   "cell_type": "markdown",
   "metadata": {},
   "source": [
    "## Importing packages"
   ]
  },
  {
   "cell_type": "code",
   "execution_count": 2,
   "metadata": {},
   "outputs": [],
   "source": [
    "# import relevant packages here or going forward\n",
    "import pandas as pd\n",
    "import numpy as np\n",
    "from sqlalchemy import create_engine\n",
    "from   sqlalchemy.engine import URL\n",
    "from   sqlalchemy import text"
   ]
  },
  {
   "cell_type": "markdown",
   "metadata": {},
   "source": [
    "### Connecting to SQL server"
   ]
  },
  {
   "cell_type": "code",
   "execution_count": 17,
   "metadata": {},
   "outputs": [],
   "source": [
    "# Write your answer here: \n",
    "url_server = URL.create(\n",
    "    \"postgresql\",\n",
    "    host = 'localhost',\n",
    "    database = 'postgres',\n",
    "    username = 'postgres',\n",
    "    port = 5432,\n",
    "    password  = \"postgres\") # I installed postgres in a separate class so I have a password\n",
    "\n",
    "connection = create_engine(url_server)"
   ]
  },
  {
   "cell_type": "markdown",
   "metadata": {},
   "source": [
    "### Loading the Data"
   ]
  },
  {
   "cell_type": "code",
   "execution_count": null,
   "metadata": {},
   "outputs": [],
   "source": [
    "education_data = pd.read_csv('data/wdi_education_data.csv')"
   ]
  },
  {
   "cell_type": "markdown",
   "metadata": {},
   "source": [
    "### Pivoting\n",
    "After I (Alix) was unable to safely pivot the table in postgres, I did it in python and reuploaded it back to sql"
   ]
  },
  {
   "cell_type": "code",
   "execution_count": 28,
   "metadata": {},
   "outputs": [
    {
     "name": "stdout",
     "output_type": "stream",
     "text": [
      "Columns in the pivoted DataFrame:\n",
      "Index(['Country Name', 'Year',\n",
      "       'Adjusted net enrollment rate, primary (% of primary school age children)',\n",
      "       'Adjusted net enrollment rate, primary, female (% of primary school age children)',\n",
      "       'Adjusted net enrollment rate, primary, male (% of primary school age children)',\n",
      "       'Adolescents out of school (% of lower secondary school age)',\n",
      "       'Adolescents out of school, female (% of female lower secondary school age)',\n",
      "       'Adolescents out of school, male (% of male lower secondary school age)',\n",
      "       'Children out of school (% of primary school age)',\n",
      "       'Children out of school, female (% of female primary school age)',\n",
      "       ...\n",
      "       'Trained teachers in preprimary education, male (% of male teachers)',\n",
      "       'Trained teachers in primary education (% of total teachers)',\n",
      "       'Trained teachers in primary education, female (% of female teachers)',\n",
      "       'Trained teachers in primary education, male (% of male teachers)',\n",
      "       'Trained teachers in secondary education (% of total teachers)',\n",
      "       'Trained teachers in secondary education, female (% of female teachers)',\n",
      "       'Trained teachers in secondary education, male (% of male teachers)',\n",
      "       'Trained teachers in upper secondary education (% of total teachers)',\n",
      "       'Trained teachers in upper secondary education, female (% of female teachers)',\n",
      "       'Trained teachers in upper secondary education, male (% of male teachers)'],\n",
      "      dtype='object', length=158)\n"
     ]
    },
    {
     "data": {
      "text/plain": [
       "'\\n# Step 8: Check for uniqueness\\nduplicate_columns = education_data_pivoted_reset.columns[education_data_pivoted_reset.columns.duplicated()]\\n\\n\\nif len(duplicate_columns) > 0:\\n    print(\"\\nDuplicate columns found:\")\\n    print(duplicate_columns)\\nelse:\\n    print(\"\\nAll column names are unique.\")\\n'"
      ]
     },
     "execution_count": 28,
     "metadata": {},
     "output_type": "execute_result"
    }
   ],
   "source": [
    "# Load the data\n",
    "education_data = pd.read_csv('data/wdi_education_data.csv')\n",
    "\n",
    "# Step 1: Select only the year columns (starting from the 4th column onward)\n",
    "year_columns = education_data.columns[3:]\n",
    "\n",
    "# Step 2: Remove rows with NaN values in the year columns\n",
    "education_data_cleaned = education_data.dropna(subset=year_columns)\n",
    "\n",
    "# Step 3: Melt the DataFrame to convert year columns into rows\n",
    "education_data_melted = education_data_cleaned.melt(\n",
    "    id_vars=[\"Country Name\", \"Series Name\"],  # Keep 'Country Name' and 'Series Name' as they are\n",
    "    value_vars=year_columns,  # The year columns (from column 4 onward)\n",
    "    var_name=\"Year\",  # New column for year\n",
    "    value_name=\"Value\"  # New column for values\n",
    ")\n",
    "\n",
    "# Step 4: Clean up the 'Year' column by extracting the year (if necessary)\n",
    "education_data_melted[\"Year\"] = education_data_melted[\"Year\"].str.extract(r\"(\\d{4})\")\n",
    "\n",
    "# Step 5: Remove rows where 'Year' is NaN before converting to integer\n",
    "education_data_melted = education_data_melted.dropna(subset=[\"Year\"])\n",
    "\n",
    "# Step 6: Convert the 'Year' column to integer\n",
    "education_data_melted[\"Year\"] = education_data_melted[\"Year\"].astype(int)\n",
    "\n",
    "# Step 7: Remove duplicate rows in the melted data\n",
    "education_data_melted = education_data_melted.drop_duplicates(subset=[\"Country Name\", \"Year\", \"Series Name\"])\n",
    "\n",
    "# Pivot the data using the `pivot_table` method\n",
    "education_data_pivoted = education_data_melted.pivot_table(\n",
    "    index=[\"Country Name\", \"Year\"],  # Use both 'Country Name' and 'Year' as index\n",
    "    columns=\"Series Name\",  # Pivot on 'Series Name'\n",
    "    values=\"Value\",  # Use 'Value' as the values to fill in the pivoted table\n",
    "    aggfunc=\"first\"  # Aggregation function in case of duplicate rows, here we take the first\n",
    ")\n",
    "\n",
    "# Reset the index to move 'Country Name' and 'Year' into regular columns\n",
    "education_data_pivoted_reset = education_data_pivoted.reset_index()\n",
    "\n",
    "# Step 8: Ensure unique column names by renaming duplicates\n",
    "education_data_pivoted_reset.columns = [str(col) + \"_\" + str(i) if education_data_pivoted_reset.columns.tolist().count(col) > 1 else col for i, col in enumerate(education_data_pivoted_reset.columns)]\n",
    "\n",
    "# Print out the columns\n",
    "print(\"Columns in the pivoted DataFrame:\")\n",
    "print(education_data_pivoted_reset.columns)\n",
    "\n",
    "'''\n",
    "# Step 8: Check for uniqueness\n",
    "duplicate_columns = education_data_pivoted_reset.columns[education_data_pivoted_reset.columns.duplicated()]\n",
    "\n",
    "\n",
    "if len(duplicate_columns) > 0:\n",
    "    print(\"\\nDuplicate columns found:\")\n",
    "    print(duplicate_columns)\n",
    "else:\n",
    "    print(\"\\nAll column names are unique.\")\n",
    "'''"
   ]
  },
  {
   "cell_type": "code",
   "execution_count": 24,
   "metadata": {},
   "outputs": [
    {
     "name": "stdout",
     "output_type": "stream",
     "text": [
      "\n",
      "All column names are unique.\n"
     ]
    }
   ],
   "source": [
    "# Step 8: Check for uniqueness\n",
    "duplicate_columns = education_data_pivoted_reset.columns[education_data_pivoted_reset.columns.duplicated()]\n",
    "\n",
    "if len(duplicate_columns) > 0:\n",
    "    print(\"\\nDuplicate columns found:\")\n",
    "    print(duplicate_columns)\n",
    "else:\n",
    "    print(\"\\nAll column names are unique.\")"
   ]
  },
  {
   "cell_type": "markdown",
   "metadata": {},
   "source": [
    "### Uploading the Data into SQL"
   ]
  },
  {
   "cell_type": "code",
   "execution_count": null,
   "metadata": {},
   "outputs": [],
   "source": [
    "education_data_pivoted_reset.to_sql('wdi_education_data',\n",
    "               con = connection,\n",
    "               if_exists='replace',\n",
    "               index=False)\n"
   ]
  }
 ],
 "metadata": {
  "kernelspec": {
   "display_name": "golden_scenario_env",
   "language": "python",
   "name": "python3"
  },
  "language_info": {
   "codemirror_mode": {
    "name": "ipython",
    "version": 3
   },
   "file_extension": ".py",
   "mimetype": "text/x-python",
   "name": "python",
   "nbconvert_exporter": "python",
   "pygments_lexer": "ipython3",
   "version": "3.9.15"
  }
 },
 "nbformat": 4,
 "nbformat_minor": 2
}
